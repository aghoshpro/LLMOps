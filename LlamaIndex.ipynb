{
 "cells": [
  {
   "cell_type": "markdown",
   "id": "cf212221-8c5d-48d1-a772-254c1cdeecda",
   "metadata": {},
   "source": [
    "# LlamaIndex\n",
    "- https://www.llamaindex.ai/blog/introducing-the-property-graph-index-a-powerful-new-way-to-build-knowledge-graphs-with-llms\n",
    "- https://docs.llamaindex.ai/en/stable/examples/index_structs/knowledge_graph/KnowledgeGraphDemo/\n",
    "- https://docs.llamaindex.ai/en/stable/examples/llm/langchain/\n",
    "- https://medium.com/@tredencestudio/building-better-knowledge-graphs-llamaindex-versus-langchain-9661eefb1bb4"
   ]
  },
  {
   "cell_type": "code",
   "execution_count": null,
   "id": "71c63051-c77f-4f3a-974f-c9a1e826dffa",
   "metadata": {},
   "outputs": [],
   "source": []
  }
 ],
 "metadata": {
  "kernelspec": {
   "display_name": "Python 3 (ipykernel)",
   "language": "python",
   "name": "python3"
  },
  "language_info": {
   "codemirror_mode": {
    "name": "ipython",
    "version": 3
   },
   "file_extension": ".py",
   "mimetype": "text/x-python",
   "name": "python",
   "nbconvert_exporter": "python",
   "pygments_lexer": "ipython3",
   "version": "3.13.7"
  }
 },
 "nbformat": 4,
 "nbformat_minor": 5
}
