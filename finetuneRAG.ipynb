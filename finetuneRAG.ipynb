{
 "cells": [
  {
   "cell_type": "markdown",
   "id": "fc0a98e0-3eff-4a4d-a63b-e50b5de65e13",
   "metadata": {},
   "source": [
    "# Finetune RAG"
   ]
  },
  {
   "cell_type": "code",
   "execution_count": null,
   "id": "cbbb3645-4d76-4d5f-97f0-e6c6ccb66c22",
   "metadata": {},
   "outputs": [],
   "source": []
  }
 ],
 "metadata": {
  "kernelspec": {
   "display_name": "Python 3 (ipykernel)",
   "language": "python",
   "name": "python3"
  },
  "language_info": {
   "codemirror_mode": {
    "name": "ipython",
    "version": 3
   },
   "file_extension": ".py",
   "mimetype": "text/x-python",
   "name": "python",
   "nbconvert_exporter": "python",
   "pygments_lexer": "ipython3",
   "version": "3.13.3"
  }
 },
 "nbformat": 4,
 "nbformat_minor": 5
}
